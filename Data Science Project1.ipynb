{
 "cells": [
  {
   "cell_type": "code",
   "execution_count": 9,
   "metadata": {},
   "outputs": [
    {
     "name": "stderr",
     "output_type": "stream",
     "text": [
      "No handles with labels found to put in legend.\n",
      "No handles with labels found to put in legend.\n"
     ]
    },
    {
     "name": "stdout",
     "output_type": "stream",
     "text": [
      "Intercept: \n",
      " 97.7567619970916\n",
      "Coefficients: \n",
      " [ 7.75075133 -0.48473097]\n"
     ]
    }
   ],
   "source": [
    "import pandas as pd\n",
    "from pandas import DataFrame\n",
    "from sklearn import linear_model\n",
    "import tkinter as tk \n",
    "import matplotlib.pyplot as plt\n",
    "from matplotlib.backends.backend_tkagg import FigureCanvasTkAgg\n",
    "\n",
    "Students = {'subj1': [1,2,3,4,5],\n",
    "                'Marks': [78,45,89,90,88],\n",
    "                'Sem6': [78,89,56,95,98],\n",
    "            }\n",
    "\n",
    "df = DataFrame(Students,columns=['subj1','Marks','Sem6']) \n",
    "\n",
    "X = df[['subj1','Marks']].astype(float) \n",
    "Y = df['Sem6'].astype(float) \n",
    "regr = linear_model.LinearRegression()\n",
    "regr.fit(X, Y)\n",
    "print('Intercept: \\n', regr.intercept_)\n",
    "print('Coefficients: \\n', regr.coef_)\n",
    "root= tk.Tk()\n",
    "canvas1 = tk.Canvas(root, width = 500, height = 300)\n",
    "canvas1.pack()\n",
    "Intercept_result = ('Intercept: ', regr.intercept_)\n",
    "label_Intercept = tk.Label(root, text=Intercept_result, justify = 'center')\n",
    "canvas1.create_window(260, 220, window=label_Intercept)\n",
    "Coefficients_result  = ('Coefficients: ', regr.coef_)\n",
    "label_Coefficients = tk.Label(root, text=Coefficients_result, justify = 'center')\n",
    "canvas1.create_window(260, 240, window=label_Coefficients)\n",
    "label1 = tk.Label(root, text='Type subj1: ')\n",
    "canvas1.create_window(100, 100, window=label1)\n",
    "entry1 = tk.Entry (root) \n",
    "canvas1.create_window(270, 100, window=entry1)\n",
    "label2 = tk.Label(root, text=' Type Marks: ')\n",
    "canvas1.create_window(120, 120, window=label2)\n",
    "entry2 = tk.Entry (root) \n",
    "canvas1.create_window(270, 120, window=entry2)\n",
    "def values(): \n",
    "    global New_subj1 \n",
    "    New_subj1 = float(entry1.get()) \n",
    "    \n",
    "    global New_Marks \n",
    "    New_Marks = float(entry2.get()) \n",
    "    \n",
    "    Prediction_result  = ('Predicted Marks: ', regr.predict([[New_subj1 ,New_Marks]]))\n",
    "    label_Prediction = tk.Label(root, text= Prediction_result, bg='orange')\n",
    "    canvas1.create_window(260, 280, window=label_Prediction)\n",
    "button1 = tk.Button (root, text='Predict Marks',command=values, bg='orange') \n",
    "canvas1.create_window(270, 150, window=button1)\n",
    " \n",
    "\n",
    "\n",
    "\n",
    "\n",
    "\n",
    "\n",
    " figure3 = plt.Figure(figsize=(5,4), dpi=100)\n",
    "ax3 = figure3.add_subplot(111)\n",
    "ax3.scatter(df['subj1'].astype(float),df['Sem6'].astype(float), color = 'r')\n",
    "scatter3 = FigureCanvasTkAgg(figure3, root) \n",
    "scatter3.get_tk_widget().pack(side=tk.RIGHT, fill=tk.BOTH)\n",
    "ax3.legend() \n",
    "ax3.set_xlabel('subj1')\n",
    "ax3.set_title('subj1 Vs. Sem6')\n",
    "\n",
    " \n",
    "figure4 = plt.Figure(figsize=(5,4), dpi=100)\n",
    "ax4 = figure4.add_subplot(111)\n",
    "ax4.scatter(df['Marks'].astype(float),df['Sem6'].astype(float), color = 'g')\n",
    "scatter4 = FigureCanvasTkAgg(figure4, root) \n",
    "scatter4.get_tk_widget().pack(side=tk.RIGHT, fill=tk.BOTH)\n",
    "ax4.legend() \n",
    "ax4.set_xlabel('Marks')\n",
    "ax4.set_title('Marks Vs. Sem6')\n",
    "\n",
    "root.mainloop()\n"
   ]
  },
  {
   "cell_type": "code",
   "execution_count": null,
   "metadata": {},
   "outputs": [],
   "source": []
  },
  {
   "cell_type": "code",
   "execution_count": null,
   "metadata": {},
   "outputs": [],
   "source": []
  }
 ],
 "metadata": {
  "kernelspec": {
   "display_name": "Python 3",
   "language": "python",
   "name": "python3"
  },
  "language_info": {
   "codemirror_mode": {
    "name": "ipython",
    "version": 3
   },
   "file_extension": ".py",
   "mimetype": "text/x-python",
   "name": "python",
   "nbconvert_exporter": "python",
   "pygments_lexer": "ipython3",
   "version": "3.7.6"
  }
 },
 "nbformat": 4,
 "nbformat_minor": 4
}
